{
 "cells": [
  {
   "cell_type": "markdown",
   "metadata": {},
   "source": [
    "### Project Introduction:\n",
    "This is a ML project presented by Brandi Booth.  Mobile phone carrier Megaline, wants to impliment a ML model to recommend their newer phone plans  to customers.  They can recommend either the Smart plan or the Ultra plan.  This ML model will solve a binary classification problem. (As to which plan to recommend to the customer Ultra; which will be classified as 1. Or Smart; which will be classified as 0).  <br><br>\n",
    "I will access behavior data about subscribers who have already switched to the new plans from the provided dataframe. \n",
    "For this classification task, I will develop a model that will pick the right plan. I will go straight to creating the model as preprocessing has been completed as described by the project.  I will follow evaluation steps and provide a model with a threshold for accuracy is 0.75 & Check the accuracy using the test dataset.\n",
    "For this we ask, can we predict whether a customer will choose the Smart plan or the Ultra plan based on our feature details?"
   ]
  },
  {
   "cell_type": "code",
   "execution_count": 1,
   "metadata": {},
   "outputs": [],
   "source": [
    "import pandas as pd\n",
    "import numpy as np\n",
    "from matplotlib import pyplot as plt\n",
    "import seaborn as sns\n",
    "from sklearn.model_selection import train_test_split\n",
    "from sklearn.linear_model import LogisticRegression \n",
    "from sklearn import metrics\n",
    "from sklearn import tree"
   ]
  },
  {
   "cell_type": "code",
   "execution_count": 2,
   "metadata": {},
   "outputs": [],
   "source": [
    "df = pd.read_csv('/datasets/users_behavior.csv')"
   ]
  },
  {
   "cell_type": "code",
   "execution_count": 3,
   "metadata": {},
   "outputs": [
    {
     "data": {
      "text/html": [
       "<div>\n",
       "<style scoped>\n",
       "    .dataframe tbody tr th:only-of-type {\n",
       "        vertical-align: middle;\n",
       "    }\n",
       "\n",
       "    .dataframe tbody tr th {\n",
       "        vertical-align: top;\n",
       "    }\n",
       "\n",
       "    .dataframe thead th {\n",
       "        text-align: right;\n",
       "    }\n",
       "</style>\n",
       "<table border=\"1\" class=\"dataframe\">\n",
       "  <thead>\n",
       "    <tr style=\"text-align: right;\">\n",
       "      <th></th>\n",
       "      <th>calls</th>\n",
       "      <th>minutes</th>\n",
       "      <th>messages</th>\n",
       "      <th>mb_used</th>\n",
       "      <th>is_ultra</th>\n",
       "    </tr>\n",
       "  </thead>\n",
       "  <tbody>\n",
       "    <tr>\n",
       "      <th>0</th>\n",
       "      <td>40.0</td>\n",
       "      <td>311.90</td>\n",
       "      <td>83.0</td>\n",
       "      <td>19915.42</td>\n",
       "      <td>0</td>\n",
       "    </tr>\n",
       "    <tr>\n",
       "      <th>1</th>\n",
       "      <td>85.0</td>\n",
       "      <td>516.75</td>\n",
       "      <td>56.0</td>\n",
       "      <td>22696.96</td>\n",
       "      <td>0</td>\n",
       "    </tr>\n",
       "    <tr>\n",
       "      <th>2</th>\n",
       "      <td>77.0</td>\n",
       "      <td>467.66</td>\n",
       "      <td>86.0</td>\n",
       "      <td>21060.45</td>\n",
       "      <td>0</td>\n",
       "    </tr>\n",
       "    <tr>\n",
       "      <th>3</th>\n",
       "      <td>106.0</td>\n",
       "      <td>745.53</td>\n",
       "      <td>81.0</td>\n",
       "      <td>8437.39</td>\n",
       "      <td>1</td>\n",
       "    </tr>\n",
       "    <tr>\n",
       "      <th>4</th>\n",
       "      <td>66.0</td>\n",
       "      <td>418.74</td>\n",
       "      <td>1.0</td>\n",
       "      <td>14502.75</td>\n",
       "      <td>0</td>\n",
       "    </tr>\n",
       "    <tr>\n",
       "      <th>...</th>\n",
       "      <td>...</td>\n",
       "      <td>...</td>\n",
       "      <td>...</td>\n",
       "      <td>...</td>\n",
       "      <td>...</td>\n",
       "    </tr>\n",
       "    <tr>\n",
       "      <th>3209</th>\n",
       "      <td>122.0</td>\n",
       "      <td>910.98</td>\n",
       "      <td>20.0</td>\n",
       "      <td>35124.90</td>\n",
       "      <td>1</td>\n",
       "    </tr>\n",
       "    <tr>\n",
       "      <th>3210</th>\n",
       "      <td>25.0</td>\n",
       "      <td>190.36</td>\n",
       "      <td>0.0</td>\n",
       "      <td>3275.61</td>\n",
       "      <td>0</td>\n",
       "    </tr>\n",
       "    <tr>\n",
       "      <th>3211</th>\n",
       "      <td>97.0</td>\n",
       "      <td>634.44</td>\n",
       "      <td>70.0</td>\n",
       "      <td>13974.06</td>\n",
       "      <td>0</td>\n",
       "    </tr>\n",
       "    <tr>\n",
       "      <th>3212</th>\n",
       "      <td>64.0</td>\n",
       "      <td>462.32</td>\n",
       "      <td>90.0</td>\n",
       "      <td>31239.78</td>\n",
       "      <td>0</td>\n",
       "    </tr>\n",
       "    <tr>\n",
       "      <th>3213</th>\n",
       "      <td>80.0</td>\n",
       "      <td>566.09</td>\n",
       "      <td>6.0</td>\n",
       "      <td>29480.52</td>\n",
       "      <td>1</td>\n",
       "    </tr>\n",
       "  </tbody>\n",
       "</table>\n",
       "<p>3214 rows × 5 columns</p>\n",
       "</div>"
      ],
      "text/plain": [
       "      calls  minutes  messages   mb_used  is_ultra\n",
       "0      40.0   311.90      83.0  19915.42         0\n",
       "1      85.0   516.75      56.0  22696.96         0\n",
       "2      77.0   467.66      86.0  21060.45         0\n",
       "3     106.0   745.53      81.0   8437.39         1\n",
       "4      66.0   418.74       1.0  14502.75         0\n",
       "...     ...      ...       ...       ...       ...\n",
       "3209  122.0   910.98      20.0  35124.90         1\n",
       "3210   25.0   190.36       0.0   3275.61         0\n",
       "3211   97.0   634.44      70.0  13974.06         0\n",
       "3212   64.0   462.32      90.0  31239.78         0\n",
       "3213   80.0   566.09       6.0  29480.52         1\n",
       "\n",
       "[3214 rows x 5 columns]"
      ]
     },
     "execution_count": 3,
     "metadata": {},
     "output_type": "execute_result"
    }
   ],
   "source": [
    "df"
   ]
  },
  {
   "cell_type": "code",
   "execution_count": 4,
   "metadata": {
    "scrolled": false
   },
   "outputs": [],
   "source": [
    "smart_var = df.loc[df['is_ultra'] == 0].count()['is_ultra']\n",
    "ultra_var = df.loc[df['is_ultra'] == 1].count()['is_ultra']"
   ]
  },
  {
   "cell_type": "code",
   "execution_count": 5,
   "metadata": {
    "scrolled": true
   },
   "outputs": [
    {
     "data": {
      "image/png": "[encoded data removed]",
      "text/plain": [
       "<Figure size 432x288 with 1 Axes>"
      ]
     },
     "metadata": {
      "needs_background": "light"
     },
     "output_type": "display_data"
    }
   ],
   "source": [
    "# Create a bar plot\n",
    "categories = ['Smart Plan', 'Ultra Plan']\n",
    "values = [smart_var, ultra_var]\n",
    "\n",
    "plt.bar(categories, values)\n",
    "\n",
    "# Customize the plot\n",
    "plt.xlabel('Category')\n",
    "plt.ylabel('Count')\n",
    "plt.title('Comparison of Smart Plans, and Ultra Plans')\n",
    "\n",
    "# Show the plot\n",
    "plt.show()"
   ]
  },
  {
   "cell_type": "code",
   "execution_count": 6,
   "metadata": {},
   "outputs": [
    {
     "data": {
      "text/plain": [
       "2229"
      ]
     },
     "metadata": {},
     "output_type": "display_data"
    },
    {
     "data": {
      "text/plain": [
       "985"
      ]
     },
     "execution_count": 6,
     "metadata": {},
     "output_type": "execute_result"
    }
   ],
   "source": [
    "display(smart_var)\n",
    "ultra_var"
   ]
  },
  {
   "cell_type": "code",
   "execution_count": 7,
   "metadata": {
    "scrolled": true
   },
   "outputs": [
    {
     "data": {
      "text/plain": [
       "<AxesSubplot:>"
      ]
     },
     "execution_count": 7,
     "metadata": {},
     "output_type": "execute_result"
    },
    {
     "data": {
      "image/png": "[encoded data removed]",
      "text/plain": [
       "<Figure size 432x288 with 2 Axes>"
      ]
     },
     "metadata": {
      "needs_background": "light"
     },
     "output_type": "display_data"
    }
   ],
   "source": [
    "sns.heatmap(df.corr())"
   ]
  },
  {
   "cell_type": "code",
   "execution_count": 8,
   "metadata": {},
   "outputs": [],
   "source": [
    "# Splitting the data into features (X) and target (y)\n",
    "X_features = df.drop('is_ultra', axis=1)\n",
    "y_target = df['is_ultra']"
   ]
  },
  {
   "cell_type": "code",
   "execution_count": 9,
   "metadata": {},
   "outputs": [
    {
     "name": "stdout",
     "output_type": "stream",
     "text": [
      "Training set size: 1928\n",
      "Validation set size: 643\n",
      "Test set size: 643\n"
     ]
    }
   ],
   "source": [
    "\n",
    "# Splitting the data into training and temporary sets\n",
    "train_X, temp_X, train_y, temp_y = train_test_split(X_features, y_target, test_size=0.4, random_state=42)\n",
    "\n",
    "# Splitting the temporary set into validation and test sets\n",
    "valid_X, test_X, valid_y, test_y = train_test_split(temp_X, temp_y, test_size=0.5, random_state=42)\n",
    "\n",
    "# Printing the sizes of each set\n",
    "print(\"Training set size:\", len(train_X))\n",
    "print(\"Validation set size:\", len(valid_X))\n",
    "print(\"Test set size:\", len(test_X))\n"
   ]
  },
  {
   "cell_type": "code",
   "execution_count": 10,
   "metadata": {},
   "outputs": [
    {
     "name": "stdout",
     "output_type": "stream",
     "text": [
      "(1928, 4) (1928,)\n"
     ]
    }
   ],
   "source": [
    " print(train_X.shape, train_y.shape) "
   ]
  },
  {
   "cell_type": "code",
   "execution_count": 11,
   "metadata": {},
   "outputs": [
    {
     "name": "stderr",
     "output_type": "stream",
     "text": [
      "/opt/conda/lib/python3.9/site-packages/sklearn/linear_model/_logistic.py:763: ConvergenceWarning: lbfgs failed to converge (status=1):\n",
      "STOP: TOTAL NO. of ITERATIONS REACHED LIMIT.\n",
      "\n",
      "Increase the number of iterations (max_iter) or scale the data as shown in:\n",
      "    https://scikit-learn.org/stable/modules/preprocessing.html\n",
      "Please also refer to the documentation for alternative solver options:\n",
      "    https://scikit-learn.org/stable/modules/linear_model.html#logistic-regression\n",
      "  n_iter_i = _check_optimize_result(\n"
     ]
    },
    {
     "data": {
      "text/plain": [
       "LogisticRegression()"
      ]
     },
     "execution_count": 11,
     "metadata": {},
     "output_type": "execute_result"
    }
   ],
   "source": [
    "model = LogisticRegression()\n",
    "\n",
    "#train the model\n",
    "model.fit(train_X, train_y)"
   ]
  },
  {
   "cell_type": "code",
   "execution_count": 12,
   "metadata": {},
   "outputs": [
    {
     "name": "stdout",
     "output_type": "stream",
     "text": [
      "Accuracy of the logistic regression model on the training set: 0.7432572614107884\n",
      "Accuracy of the logistic regression model on the validation set: 0.7402799377916018\n",
      "Accuracy of the logistic regression model on the test set: 0.7682737169517885\n",
      "Final Model Score on LogisticRegression: 0.7682737169517885\n"
     ]
    }
   ],
   "source": [
    "score_train = model.score(train_X, train_y)\n",
    "# calculate accuracy score on training set\n",
    " \n",
    "score_valid = model.score(valid_X, valid_y)\n",
    "# calculate accuracy score on validation set\n",
    " \n",
    "\n",
    "print(\n",
    "    \"Accuracy of the logistic regression model on the training set:\",\n",
    "    score_train,\n",
    ")\n",
    "print(\n",
    "    \"Accuracy of the logistic regression model on the validation set:\",\n",
    "    score_valid,\n",
    ")\n",
    "score_test = model.score(test_X, test_y)\n",
    "print(\"Accuracy of the logistic regression model on the test set:\", score_test)\n",
    "\n",
    "#final model of LogisticRegression\n",
    "model_test_final = LogisticRegression() \n",
    "model_test_final.fit(test_X, test_y)\n",
    "score = model.score(test_X, test_y)\n",
    "print('Final Model Score on LogisticRegression:', score)"
   ]
  },
  {
   "cell_type": "markdown",
   "metadata": {},
   "source": [
    "The Accuracy for predictions using LogisticRegression model for the binary classification of plan choice for the mobile phone company is 76.8%, which is higher than the would be 'by chance' rate of 50%."
   ]
  },
  {
   "cell_type": "code",
   "execution_count": 13,
   "metadata": {},
   "outputs": [],
   "source": [
    "from sklearn.ensemble import RandomForestClassifier"
   ]
  },
  {
   "cell_type": "code",
   "execution_count": 14,
   "metadata": {},
   "outputs": [
    {
     "name": "stdout",
     "output_type": "stream",
     "text": [
      "Accuracy of the best model on the validation set (n_estimators = 4): 0.7916018662519441\n",
      "Accuracy of the RandomForestClassifier model on the training set: 0.9802904564315352\n",
      "Accuracy of the RandomForestClassifier model on the validation set: 0.7869362363919129\n",
      "Accuracy of the RandomForestClassifier on the test set: 0.8164852255054432\n",
      "Final Model Score on RandomForestClassifier: 0.8164852255054432\n"
     ]
    }
   ],
   "source": [
    "best_score = 0\n",
    "best_est = 0\n",
    "for est in range(1,11): # choose hyperparameter range\n",
    "    model2 = RandomForestClassifier(random_state=42, n_estimators=est) # set number of trees\n",
    "    model2.fit(train_X, train_y) # train model on training set\n",
    "    score = model2.score(valid_X, valid_y) # calculate accuracy score on validation set\n",
    "    if score > best_score:\n",
    "        best_score = score\n",
    "        best_est = est\n",
    "\n",
    "print(\"Accuracy of the best model on the validation set (n_estimators = {}): {}\".format(best_est, best_score))\n",
    "\n",
    "score_train = model2.score(train_X, train_y)\n",
    "# calculate accuracy score on training set\n",
    " \n",
    "score_valid = model2.score(valid_X, valid_y)\n",
    "# calculate accuracy score on validation set\n",
    "\n",
    "print(\n",
    "    \"Accuracy of the RandomForestClassifier model on the training set:\",\n",
    "    score_train,\n",
    ")\n",
    "print(\n",
    "    \"Accuracy of the RandomForestClassifier model on the validation set:\",\n",
    "    score_valid,\n",
    ")\n",
    "\n",
    "score_test = model2.score(test_X, test_y)\n",
    "print(\"Accuracy of the RandomForestClassifier on the test set:\", score_test)\n",
    "\n",
    "#final model of RandomForestClassifier\n",
    "model2_test_final = RandomForestClassifier(random_state=42, n_estimators=4) \n",
    "model2_test_final.fit(test_X, test_y)\n",
    "score2 = model2.score(test_X, test_y)\n",
    "print('Final Model Score on RandomForestClassifier:', score2)"
   ]
  },
  {
   "cell_type": "markdown",
   "metadata": {},
   "source": [
    "The accuracy of the best model on the test set (n_estimators = 4): 62% for the RandomForestClassifier model, which is failing score and not much above by chance percentage.  Hyperparameters chosen are a random_state and n_estimators (which iterates through a range of options). \n"
   ]
  },
  {
   "cell_type": "markdown",
   "metadata": {},
   "source": [
    "<br><b>Instantiate the model to be used (DecisionTreeClassifier)"
   ]
  },
  {
   "cell_type": "code",
   "execution_count": 15,
   "metadata": {},
   "outputs": [],
   "source": [
    "from sklearn.tree import DecisionTreeClassifier\n",
    "from sklearn.metrics import accuracy_score"
   ]
  },
  {
   "cell_type": "code",
   "execution_count": 16,
   "metadata": {},
   "outputs": [
    {
     "name": "stdout",
     "output_type": "stream",
     "text": [
      "Accuracy of the best model max_depth=10: 0.7962674961119751\n",
      "Accuracy of the DecisionTreeClassifier model on the training set: 0.8786307053941909\n",
      "Accuracy of the DecisionTreeClassifier model on the validation set: 0.7947122861586314\n",
      "Accuracy of the DecisionTreeClassifier on the test set: 0.8164852255054432\n",
      "Final Model Score of on DecisionTreeClassifier: 0.7947122861586314\n"
     ]
    }
   ],
   "source": [
    "# Build Model of DecisionTreeClassifier\n",
    "best_mod = None\n",
    "best_result = 0\n",
    "for depth in range(1, 11):\n",
    "\tmodel3 = DecisionTreeClassifier(random_state=42, max_depth=depth) # create a model with the given depth\n",
    "\tmodel3.fit(train_X, train_y) # train the model\n",
    "\tpredictions_valid = model3.predict(valid_X) # get the model's predictions\n",
    "\tresult = accuracy_score(valid_y, predictions_valid) # calculate the accuracy\n",
    "\tif result > best_result:\n",
    "\t\tbest_mod = model3\n",
    "\t\tbest_result = result\n",
    "\n",
    "print(f'Accuracy of the best model max_depth={depth}: {best_result}')\n",
    "\n",
    "score_train3 = model3.score(train_X, train_y)\n",
    "# calculate accuracy score on training set\n",
    " \n",
    "score_valid3 = model3.score(valid_X, valid_y)\n",
    "# calculate accuracy score on validation set\n",
    "\n",
    "print(\n",
    "    \"Accuracy of the DecisionTreeClassifier model on the training set:\",\n",
    "    score_train3,\n",
    ")\n",
    "print(\n",
    "    \"Accuracy of the DecisionTreeClassifier model on the validation set:\",\n",
    "    score_valid3,\n",
    ")\n",
    "\n",
    "score_test3 = model3.score(test_X, test_y)\n",
    "print(\"Accuracy of the DecisionTreeClassifier on the test set:\", score_test)\n",
    "\n",
    "#Final model of DecisionTreeClassifier\n",
    "model3_test_final = DecisionTreeClassifier(random_state=42, max_depth=10)\n",
    "model3_test_final.fit(test_X, test_y)\n",
    "score3 = model3.score(test_X, test_y)\n",
    "print('Final Model Score of on DecisionTreeClassifier:', score3)\n"
   ]
  },
  {
   "cell_type": "markdown",
   "metadata": {},
   "source": [
    "The Accuracy for predictions using DecisionTreeClassifier model for the binary classification of plan choice for the mobile phone company is 81.2%."
   ]
  },
  {
   "cell_type": "markdown",
   "metadata": {},
   "source": [
    "<br><b>\n",
    "Final Model"
   ]
  },
  {
   "cell_type": "code",
   "execution_count": 17,
   "metadata": {},
   "outputs": [
    {
     "name": "stdout",
     "output_type": "stream",
     "text": [
      "Final Model with RandomForestClassifier: 0.8164852255054432\n"
     ]
    }
   ],
   "source": [
    "#final model of RandomForestClassifier\n",
    "model2_test_final = RandomForestClassifier(random_state=42, n_estimators=4) \n",
    "model2_test_final.fit(test_X, test_y)\n",
    "score2 = model2.score(test_X, test_y)\n",
    "print('Final Model with RandomForestClassifier:', score2)"
   ]
  },
  {
   "cell_type": "markdown",
   "metadata": {},
   "source": [
    "<div class=>\n",
    " Conclusion <br>\n",
    "    2 of the training datasets accuracy scored higher than the test set.  Which shows overfitting in the models. \n",
    "As we can see RandomForestClassifier has the highest accuracy percentage of 81%.  Which is above 75% threshold and far above the 50% chance rate if our data was balanced, and more than 75% chance rate if data mostly chose toward skewed data.  I used hyper parameters `random_state` and `n_estimators`.  Random_state keeps the material shuffled in the same pattern for no variation, but allows the learning model to not \"memorize\" the details.  I iterated over a range of n_estimators; so that the model may choose it's best.<br>\n",
    "I tried 3 Classification models; and found RandomForestClassifier provided the best results. \n",
    "</div>\n"
   ]
  },
  {
   "cell_type": "markdown",
   "metadata": {},
   "source": []
  }
 ],
 "metadata": {
  "kernelspec": {
   "display_name": "Python 3 (ipykernel)",
   "language": "python",
   "name": "python3"
  },
  "language_info": {
   "codemirror_mode": {
    "name": "ipython",
    "version": 3
   },
   "file_extension": ".py",
   "mimetype": "text/x-python",
   "name": "python",
   "nbconvert_exporter": "python",
   "pygments_lexer": "ipython3",
   "version": "3.9.5"
  },
  "toc": {
   "base_numbering": 1,
   "nav_menu": {},
   "number_sections": true,
   "sideBar": true,
   "skip_h1_title": true,
   "title_cell": "Table of Contents",
   "title_sidebar": "Contents",
   "toc_cell": false,
   "toc_position": {},
   "toc_section_display": true,
   "toc_window_display": false
  }
 },
 "nbformat": 4,
 "nbformat_minor": 2
}
