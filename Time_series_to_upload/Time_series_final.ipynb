{
 "cells": [
  {
   "cell_type": "markdown",
   "metadata": {},
   "source": [
    "# Project description\n",
    "\n",
    "We have collected historical data on airpot taxi orders from a company. To attract more drivers during peak hours for Sweet Lift Taxi company, a prediction is needed for the amount of taxi orders in the next hour. Here I will build a model for such a prediction.\n",
    "\n",
    "The RMSE metric on the test set should not be more than 48.\n",
    "\n",
    "## Project projections\n",
    "\n",
    "1. Download the data and resample it by one hour.\n",
    "2. Analyze the data.\n",
    "3. Train different models with different hyperparameters. The test sample should be 10% of the initial dataset. \n",
    "4. Test the data using the test sample and provide a conclusion.\n",
    "\n",
    "## Data description\n",
    "\n",
    "The data is stored in file `taxi.csv`. The number of orders is in the '*num_orders*' column."
   ]
  },
  {
   "cell_type": "markdown",
   "metadata": {},
   "source": [
    "## Preparation"
   ]
  },
  {
   "cell_type": "code",
   "execution_count": 1,
   "metadata": {},
   "outputs": [],
   "source": [
    "import pandas as pd\n",
    "import numpy as np\n",
    "import os, sys\n",
    "import matplotlib.pyplot as plt\n",
    "import seaborn as sns\n",
    "import time\n",
    "\n",
    "from sklearn.linear_model import LinearRegression\n",
    "from sklearn.ensemble import RandomForestRegressor\n",
    "from sklearn.metrics import mean_squared_error, r2_score, make_scorer\n",
    "from sklearn.model_selection import train_test_split\n",
    "from sklearn.model_selection import TimeSeriesSplit\n",
    "from sklearn.model_selection import GridSearchCV\n",
    "from catboost import CatBoostRegressor\n",
    "from statsmodels.tsa.seasonal import seasonal_decompose\n",
    "\n",
    "import warnings\n",
    "warnings.filterwarnings('ignore')"
   ]
  },
  {
   "cell_type": "code",
   "execution_count": 2,
   "metadata": {},
   "outputs": [
    {
     "name": "stdout",
     "output_type": "stream",
     "text": [
      "platform\n"
     ]
    }
   ],
   "source": [
    "\n",
    "df = pd.read_csv('/datasets/taxi.csv', parse_dates=['datetime'])\n",
    "print('platform')\n",
    "\n",
    "    "
   ]
  },
  {
   "cell_type": "code",
   "execution_count": 3,
   "metadata": {},
   "outputs": [
    {
     "data": {
      "text/html": [
       "<div>\n",
       "<style scoped>\n",
       "    .dataframe tbody tr th:only-of-type {\n",
       "        vertical-align: middle;\n",
       "    }\n",
       "\n",
       "    .dataframe tbody tr th {\n",
       "        vertical-align: top;\n",
       "    }\n",
       "\n",
       "    .dataframe thead th {\n",
       "        text-align: right;\n",
       "    }\n",
       "</style>\n",
       "<table border=\"1\" class=\"dataframe\">\n",
       "  <thead>\n",
       "    <tr style=\"text-align: right;\">\n",
       "      <th></th>\n",
       "      <th>datetime</th>\n",
       "      <th>num_orders</th>\n",
       "    </tr>\n",
       "  </thead>\n",
       "  <tbody>\n",
       "    <tr>\n",
       "      <th>0</th>\n",
       "      <td>2018-03-01 00:00:00</td>\n",
       "      <td>9</td>\n",
       "    </tr>\n",
       "    <tr>\n",
       "      <th>1</th>\n",
       "      <td>2018-03-01 00:10:00</td>\n",
       "      <td>14</td>\n",
       "    </tr>\n",
       "    <tr>\n",
       "      <th>2</th>\n",
       "      <td>2018-03-01 00:20:00</td>\n",
       "      <td>28</td>\n",
       "    </tr>\n",
       "    <tr>\n",
       "      <th>3</th>\n",
       "      <td>2018-03-01 00:30:00</td>\n",
       "      <td>20</td>\n",
       "    </tr>\n",
       "    <tr>\n",
       "      <th>4</th>\n",
       "      <td>2018-03-01 00:40:00</td>\n",
       "      <td>32</td>\n",
       "    </tr>\n",
       "    <tr>\n",
       "      <th>...</th>\n",
       "      <td>...</td>\n",
       "      <td>...</td>\n",
       "    </tr>\n",
       "    <tr>\n",
       "      <th>26491</th>\n",
       "      <td>2018-08-31 23:10:00</td>\n",
       "      <td>32</td>\n",
       "    </tr>\n",
       "    <tr>\n",
       "      <th>26492</th>\n",
       "      <td>2018-08-31 23:20:00</td>\n",
       "      <td>24</td>\n",
       "    </tr>\n",
       "    <tr>\n",
       "      <th>26493</th>\n",
       "      <td>2018-08-31 23:30:00</td>\n",
       "      <td>27</td>\n",
       "    </tr>\n",
       "    <tr>\n",
       "      <th>26494</th>\n",
       "      <td>2018-08-31 23:40:00</td>\n",
       "      <td>39</td>\n",
       "    </tr>\n",
       "    <tr>\n",
       "      <th>26495</th>\n",
       "      <td>2018-08-31 23:50:00</td>\n",
       "      <td>53</td>\n",
       "    </tr>\n",
       "  </tbody>\n",
       "</table>\n",
       "<p>26496 rows × 2 columns</p>\n",
       "</div>"
      ],
      "text/plain": [
       "                 datetime  num_orders\n",
       "0     2018-03-01 00:00:00           9\n",
       "1     2018-03-01 00:10:00          14\n",
       "2     2018-03-01 00:20:00          28\n",
       "3     2018-03-01 00:30:00          20\n",
       "4     2018-03-01 00:40:00          32\n",
       "...                   ...         ...\n",
       "26491 2018-08-31 23:10:00          32\n",
       "26492 2018-08-31 23:20:00          24\n",
       "26493 2018-08-31 23:30:00          27\n",
       "26494 2018-08-31 23:40:00          39\n",
       "26495 2018-08-31 23:50:00          53\n",
       "\n",
       "[26496 rows x 2 columns]"
      ]
     },
     "execution_count": 3,
     "metadata": {},
     "output_type": "execute_result"
    }
   ],
   "source": [
    "df"
   ]
  },
  {
   "cell_type": "code",
   "execution_count": 4,
   "metadata": {},
   "outputs": [
    {
     "name": "stdout",
     "output_type": "stream",
     "text": [
      "<class 'pandas.core.frame.DataFrame'>\n",
      "RangeIndex: 26496 entries, 0 to 26495\n",
      "Data columns (total 2 columns):\n",
      " #   Column      Non-Null Count  Dtype         \n",
      "---  ------      --------------  -----         \n",
      " 0   datetime    26496 non-null  datetime64[ns]\n",
      " 1   num_orders  26496 non-null  int64         \n",
      "dtypes: datetime64[ns](1), int64(1)\n",
      "memory usage: 414.1 KB\n",
      "None\n",
      "\n",
      "shape: (26496, 2)\n",
      "\n",
      "duplicates: 0\n"
     ]
    },
    {
     "data": {
      "text/plain": [
       "datetime      0\n",
       "num_orders    0\n",
       "dtype: int64"
      ]
     },
     "execution_count": 4,
     "metadata": {},
     "output_type": "execute_result"
    }
   ],
   "source": [
    "print(df.info())\n",
    "print()\n",
    "print('shape:', df.shape)\n",
    "print()\n",
    "print('duplicates:', df.duplicated().sum())\n",
    "df.isna().sum()\n"
   ]
  },
  {
   "cell_type": "code",
   "execution_count": 5,
   "metadata": {},
   "outputs": [
    {
     "data": {
      "text/html": [
       "<div>\n",
       "<style scoped>\n",
       "    .dataframe tbody tr th:only-of-type {\n",
       "        vertical-align: middle;\n",
       "    }\n",
       "\n",
       "    .dataframe tbody tr th {\n",
       "        vertical-align: top;\n",
       "    }\n",
       "\n",
       "    .dataframe thead th {\n",
       "        text-align: right;\n",
       "    }\n",
       "</style>\n",
       "<table border=\"1\" class=\"dataframe\">\n",
       "  <thead>\n",
       "    <tr style=\"text-align: right;\">\n",
       "      <th></th>\n",
       "      <th>num_orders</th>\n",
       "    </tr>\n",
       "  </thead>\n",
       "  <tbody>\n",
       "    <tr>\n",
       "      <th>count</th>\n",
       "      <td>26496.000000</td>\n",
       "    </tr>\n",
       "    <tr>\n",
       "      <th>mean</th>\n",
       "      <td>14.070463</td>\n",
       "    </tr>\n",
       "    <tr>\n",
       "      <th>std</th>\n",
       "      <td>9.211330</td>\n",
       "    </tr>\n",
       "    <tr>\n",
       "      <th>min</th>\n",
       "      <td>0.000000</td>\n",
       "    </tr>\n",
       "    <tr>\n",
       "      <th>25%</th>\n",
       "      <td>8.000000</td>\n",
       "    </tr>\n",
       "    <tr>\n",
       "      <th>50%</th>\n",
       "      <td>13.000000</td>\n",
       "    </tr>\n",
       "    <tr>\n",
       "      <th>75%</th>\n",
       "      <td>19.000000</td>\n",
       "    </tr>\n",
       "    <tr>\n",
       "      <th>max</th>\n",
       "      <td>119.000000</td>\n",
       "    </tr>\n",
       "  </tbody>\n",
       "</table>\n",
       "</div>"
      ],
      "text/plain": [
       "         num_orders\n",
       "count  26496.000000\n",
       "mean      14.070463\n",
       "std        9.211330\n",
       "min        0.000000\n",
       "25%        8.000000\n",
       "50%       13.000000\n",
       "75%       19.000000\n",
       "max      119.000000"
      ]
     },
     "execution_count": 5,
     "metadata": {},
     "output_type": "execute_result"
    }
   ],
   "source": [
    "df.describe()"
   ]
  },
  {
   "cell_type": "code",
   "execution_count": 6,
   "metadata": {},
   "outputs": [
    {
     "data": {
      "text/plain": [
       "Timestamp('2018-03-01 00:00:00')"
      ]
     },
     "metadata": {},
     "output_type": "display_data"
    },
    {
     "data": {
      "text/plain": [
       "Timestamp('2018-08-31 23:50:00')"
      ]
     },
     "metadata": {},
     "output_type": "display_data"
    },
    {
     "data": {
      "image/png": "[encoded data removed]",
      "text/plain": [
       "<Figure size 432x288 with 1 Axes>"
      ]
     },
     "metadata": {
      "needs_background": "light"
     },
     "output_type": "display_data"
    }
   ],
   "source": [
    "# length of the dataset\n",
    "display(df['datetime'].min(), df['datetime'].max())\n",
    "# check for gaps\n",
    "(df['datetime'] - df['datetime'].shift()).plot()\n",
    "plt.show()"
   ]
  },
  {
   "cell_type": "markdown",
   "metadata": {},
   "source": [
    "## Analysis"
   ]
  },
  {
   "cell_type": "code",
   "execution_count": 7,
   "metadata": {},
   "outputs": [],
   "source": [
    "# Make new feature columns for month, day,  dayofweek, hour\n",
    "\n",
    "# predictions are required for the next hour\n",
    "df_hour = df.copy(deep=True)\n",
    "df_hour.set_index('datetime', inplace=True)\n",
    "df_hour = df_hour.resample('1H').sum()"
   ]
  },
  {
   "cell_type": "code",
   "execution_count": 10,
   "metadata": {},
   "outputs": [
    {
     "data": {
      "text/plain": [
       "num_orders    int64\n",
       "dtype: object"
      ]
     },
     "execution_count": 10,
     "metadata": {},
     "output_type": "execute_result"
    }
   ],
   "source": [
    "df_hour.dtypes\n"
   ]
  },
  {
   "cell_type": "code",
   "execution_count": null,
   "metadata": {},
   "outputs": [],
   "source": [
    "def create_features(df, dt_field, target, max_lag=1, rolling_window=1):\n",
    "\n",
    "    #Making time series features\n",
    "\n",
    "    df['month'] = df.index.month\n",
    "    df['day'] = df.index.day\n",
    "    df['dayofweek'] = df.index.dayofweek\n",
    "    df['hour'] = df.index.hour\n",
    "    \n",
    "    for lag in range(1, max_lag+1):\n",
    "        df['lag_{}'.format(str(lag))] = df[target].shift(lag)\n",
    "    \n",
    "    df['rolling_mean'] = df[target].shift().rolling(rolling_window).mean()\n",
    "    df['rolling_median'] = df[target].shift().rolling(rolling_window).median()\n",
    "    df['rolling_std'] = df[target].shift().rolling(rolling_window).std()"
   ]
  },
  {
   "cell_type": "code",
   "execution_count": null,
   "metadata": {},
   "outputs": [],
   "source": [
    "create_features(df_hour, 'datetime', 'num_orders', max_lag=7, rolling_window=7)"
   ]
  },
  {
   "cell_type": "code",
   "execution_count": null,
   "metadata": {},
   "outputs": [],
   "source": [
    "df_hour.head()"
   ]
  },
  {
   "cell_type": "code",
   "execution_count": null,
   "metadata": {},
   "outputs": [],
   "source": [
    "df_hour.info()"
   ]
  },
  {
   "cell_type": "code",
   "execution_count": null,
   "metadata": {},
   "outputs": [],
   "source": [
    "def put_orders(data, field, r=1, c=1, figsize=(8, 6), is_mean_window=False,\n",
    "                window=1, titles=[], sup_title=None):\n",
    "  \n",
    "    # Plot mean orders based on different time intervals\n",
    " \n",
    "    fig, axes = plt.subplots(r, c, figsize=figsize)\n",
    "    if not is_mean_window:\n",
    "        for idx, (data, title, ax) in enumerate(zip(data, titles, axes.flatten())):\n",
    "            sns.lineplot(df.index, df, ax=ax)\n",
    "            axes[idx].set_title(title)\n",
    "    else:\n",
    "        for idx, (data, title, ax) in enumerate(zip(data, titles, axes.flatten())):\n",
    "            sns.lineplot(df.index, df, ax=ax, label='hourly trend')\n",
    "            sns.lineplot(df.index, df.shift().rolling(window).mean(), ax=ax, label='mean')\n",
    "            sns.lineplot(df.index, df.shift().rolling(window).std(), ax=ax, label='std')\n",
    "            axes[idx].set_title(title)\n",
    "    axes.flat[-1].set_visible(False) \n",
    "    plt.suptitle(sup_title)\n",
    "    plt.tight_layout(rect=[0, 0.03, 1, 0.95])\n",
    "    plt.show()"
   ]
  },
  {
   "cell_type": "code",
   "execution_count": null,
   "metadata": {},
   "outputs": [],
   "source": [
    "\n",
    "# Resample df on an hourly, daily, and monthly basis\n",
    "hourly_orders = df.set_index('datetime')['num_orders'].resample('1H').mean()\n",
    "daily_orders = df.set_index('datetime')['num_orders'].resample('1D').mean()\n",
    "monthly_orders = df.set_index('datetime')['num_orders'].resample('1M').mean()\n",
    "\n",
    "# Combine the resampled data into a new DataFrame\n",
    "df_resample = pd.concat([hourly_orders, daily_orders, monthly_orders], axis=1)\n",
    "df_resample.columns = ['Hourly', 'Daily', 'Monthly']  # Rename columns\n",
    "\n",
    "# Reset the index to have 'datetime' as a regular column\n",
    "df_resample = df_resample.reset_index()\n",
    "\n",
    "# Define titles\n",
    "titles = ['Hourly mean orders', 'Daily mean orders', 'Monthly mean orders']\n",
    "sup_title = 'Trend of orders by various intervals - 2018-03-01 to 2018-08-31'\n",
    "\n",
    "# Plot the data\n",
    "ax = df_resample.plot(x='datetime', figsize=(10, 6))\n",
    "ax.set_title(sup_title)\n",
    "ax.set_xlabel('Date')\n",
    "ax.set_ylabel('Mean Orders')\n",
    "plt.legend(title='Interval', labels=titles)\n",
    "plt.show()\n"
   ]
  },
  {
   "cell_type": "code",
   "execution_count": null,
   "metadata": {
    "scrolled": true
   },
   "outputs": [],
   "source": [
    "\n",
    "# Create a correlation matrix for the df\n",
    "corr_matrix = df_hour.corr()\n",
    "\n",
    "# Create a heatmap\n",
    "plt.figure(figsize=(12, 8))\n",
    "sns.heatmap(corr_matrix, annot=True, cmap='coolwarm', fmt='.2f')\n",
    "plt.title('Heatmap of Correlation Matrix')\n",
    "plt.show()\n"
   ]
  },
  {
   "cell_type": "code",
   "execution_count": null,
   "metadata": {
    "scrolled": true
   },
   "outputs": [],
   "source": [
    "pivoted_df = df_hour.pivot_table(index=['hour'], columns=['dayofweek'], values=['num_orders'], aggfunc='mean')\n",
    "pivoted_df = pivoted_df.droplevel(0, axis=1)\n",
    "plt.figure(figsize=(10, 10))\n",
    "sns.heatmap(pivoted_df, annot=True, cmap=\"PuBu\", fmt=\".0f\")\n",
    "plt.title('Mean number of orders by hour, day of week')\n",
    "plt.show()"
   ]
  },
  {
   "cell_type": "code",
   "execution_count": null,
   "metadata": {},
   "outputs": [],
   "source": [
    "df_hour.shape\n"
   ]
  },
  {
   "cell_type": "markdown",
   "metadata": {},
   "source": [
    "<div class=\"alert alert-info\">\n",
    "  <b> Conclusion </b> <br>Compiled the data in to details based on accumulated hourly action for the days and weeks based on hours.  We can see from our heap map that nights from approximately 9pm until 1 am are busiest.  Weekends are busier.  From 5am to 7am ride request are much slower.\n",
    "</div>"
   ]
  },
  {
   "cell_type": "markdown",
   "metadata": {},
   "source": [
    "## Training"
   ]
  },
  {
   "cell_type": "code",
   "execution_count": null,
   "metadata": {},
   "outputs": [],
   "source": [
    "def rmse(y_true, y_pred):\n",
    " \n",
    "    #Make scorer to compute rmse\n",
    "    \n",
    "    return np.sqrt(mean_squared_error(y_true, y_pred))"
   ]
  },
  {
   "cell_type": "code",
   "execution_count": null,
   "metadata": {},
   "outputs": [],
   "source": [
    "def build_model(model, train_X, train_y, test_X, test_y, \n",
    "                hyperparameters={}, \n",
    "                scoring=None, cv=5, model_str=None, cat_features=[], verbose=False):\n",
    "  \n",
    "    np.random.seed(42)\n",
    "    best_rmse = 0\n",
    "    start_time = time.time()\n",
    "    \n",
    "    gs = GridSearchCV(model, param_grid=hyperparameters, cv=cv, scoring=scoring)\n",
    "    gs.fit(train_X, train_y)\n",
    "    if model_str == 'catboost':\n",
    "        gs.best_estimator_.fit(train_X, train_y, \n",
    "                               cat_features=cat_features, verbose=verbose)\n",
    "    else:\n",
    "        gs.best_estimator_.fit(train_X, train_y)\n",
    "    preds = gs.best_estimator_.predict(test_X)\n",
    "    best_rmse = rmse(test_y, preds)\n",
    "    end_time = time.time() - start_time\n",
    "    return gs.best_estimator_, best_rmse, np.round(end_time, 2)"
   ]
  },
  {
   "cell_type": "code",
   "execution_count": null,
   "metadata": {},
   "outputs": [],
   "source": [
    "#train and test data split\n",
    "train_X, test_X, train_y, test_y = train_test_split(df_hour.drop(['num_orders'], axis=1), \n",
    "                                              df_hour['num_orders'], \n",
    "                                              test_size=0.2,\n",
    "                                              random_state=42, shuffle=False)\n",
    "\n",
    "train_X.shape, test_X.shape, train_y.shape, test_y.shape"
   ]
  },
  {
   "cell_type": "code",
   "execution_count": null,
   "metadata": {},
   "outputs": [],
   "source": [
    "time_s = TimeSeriesSplit(n_splits=5)"
   ]
  },
  {
   "cell_type": "code",
   "execution_count": null,
   "metadata": {},
   "outputs": [],
   "source": [
    "\n",
    "linear_mod = LinearRegression()\n",
    "best_lr_model, best_lr_rmse, best_lr_time = build_model(linear_mod, train_X, train_y, \n",
    "                                                        test_X, test_y,\n",
    "                                                        hyperparameters={}, \n",
    "                scoring=make_scorer(rmse, greater_is_better=False), cv=time_s)"
   ]
  },
  {
   "cell_type": "code",
   "execution_count": null,
   "metadata": {},
   "outputs": [],
   "source": [
    "random_mod = RandomForestRegressor(random_state=42)\n",
    "best_rf_model, best_rf_rmse, best_rf_time = build_model(random_mod, train_X, train_y, \n",
    "                                                        test_X, test_y,\n",
    "                                                        hyperparameters={'n_estimators': range(100, 600, 100),\n",
    "                                                                        'max_depth': range(5, 10)\n",
    "                                                                        }, \n",
    "                scoring=make_scorer(rmse, greater_is_better=False), cv=time_s)"
   ]
  },
  {
   "cell_type": "code",
   "execution_count": null,
   "metadata": {},
   "outputs": [],
   "source": [
    "# cat_features = ['month', 'hour', 'day', 'dayofweek']\n",
    "cat_features = []\n",
    "cat = CatBoostRegressor(learning_rate=0.1, loss_function='RMSE',\n",
    "                        random_seed=42)\n",
    "best_cb_model, best_cb_rmse, best_cb_time = build_model(cat, train_X.values, train_y.values, \n",
    "                                                        test_X.values, test_y.values,\n",
    "                                                        hyperparameters={'iterations': range(100, 600, 100),\n",
    "                                                                        'depth': range(5, 10)}, \n",
    "                scoring=make_scorer(rmse, greater_is_better=False), cv=time_s, model_str='catboost',\n",
    "           cat_features=cat_features)"
   ]
  },
  {
   "cell_type": "code",
   "execution_count": null,
   "metadata": {},
   "outputs": [],
   "source": [
    "model_results_df = pd.DataFrame({'model': ['LinearRegression', 'RandomForestRegressor', 'CatBoostRegressor'],\n",
    "              'best_rmse': [best_lr_rmse, best_rf_rmse, best_cb_rmse],\n",
    "              'train_time': [best_lr_time, best_rf_time, best_cb_time]})\n",
    "model_results_df"
   ]
  },
  {
   "cell_type": "code",
   "execution_count": null,
   "metadata": {},
   "outputs": [],
   "source": [
    "# best CatBoostRegressor model params\n",
    "best_cb_model.get_all_params()"
   ]
  },
  {
   "cell_type": "markdown",
   "metadata": {},
   "source": [
    "## Testing"
   ]
  },
  {
   "cell_type": "code",
   "execution_count": null,
   "metadata": {},
   "outputs": [],
   "source": [
    "def test_prediction(model, test_X, test_y):\n",
    "    \n",
    "    #Predict RMSE on the test set\n",
    "    \n",
    "    start_time = time.time()\n",
    "    preds = model.predict(test_X)\n",
    "    return preds, np.round(time.time(), 2) - start_time, rmse(test_y, preds)"
   ]
  },
  {
   "cell_type": "code",
   "execution_count": null,
   "metadata": {},
   "outputs": [],
   "source": [
    "predicted, pred_time, best_rmse = test_prediction(best_cb_model, test_X.values, test_y)\n",
    "print(f'The RMSE on the test set is {np.round(best_rmse, 2)}, and time to predict {np.round(pred_time, 4)} seconds')"
   ]
  },
  {
   "cell_type": "code",
   "execution_count": null,
   "metadata": {},
   "outputs": [],
   "source": [
    "pd.DataFrame(best_cb_model.feature_importances_,\n",
    "index=train_X.columns, columns=['score']).sort_values('score', ascending=False)"
   ]
  },
  {
   "cell_type": "code",
   "execution_count": null,
   "metadata": {},
   "outputs": [],
   "source": [
    "len(predicted)"
   ]
  },
  {
   "cell_type": "code",
   "execution_count": null,
   "metadata": {},
   "outputs": [],
   "source": [
    "test_set = test_X.merge(df_hour['num_orders'], left_index=True, right_index=True)['num_orders']\n",
    "pd.DataFrame(test_set, columns=['num_orders'])\n",
    "#test_set['preds'] = preds[0]\n",
    "#test_set"
   ]
  },
  {
   "cell_type": "markdown",
   "metadata": {},
   "source": [
    "<div class=\"alert alert-info\">\n",
    "    <b> Conclusion </b> <br> \n",
    "    The data got prepared with creating several date and time-series related features;  `month`, `day`, `dayofweek`, `hour`, \n",
    "`lag_*`, `rolling_mean`, `rolling_median`, and `rolling_std`.  The mean `num_orders` shows an upward trend in the last 5 months between 2018-03-01 and 2018-08-31.  Peaks at 12 AM, and drops to its lowest at 6AM.  CatBoostRegressor emerged as the best model with the lowest RMSE. However, it also took the longest to train the model.  End re\n",
    "</div>\n",
    "\n",
    "\n",
    "\n",
    "\n"
   ]
  }
 ],
 "metadata": {
  "kernelspec": {
   "display_name": "Python 3 (ipykernel)",
   "language": "python",
   "name": "python3"
  },
  "language_info": {
   "codemirror_mode": {
    "name": "ipython",
    "version": 3
   },
   "file_extension": ".py",
   "mimetype": "text/x-python",
   "name": "python",
   "nbconvert_exporter": "python",
   "pygments_lexer": "ipython3",
   "version": "3.9.5"
  },
  "toc": {
   "base_numbering": 1,
   "nav_menu": {},
   "number_sections": true,
   "sideBar": true,
   "skip_h1_title": true,
   "title_cell": "Table of Contents",
   "title_sidebar": "Contents",
   "toc_cell": false,
   "toc_position": {},
   "toc_section_display": true,
   "toc_window_display": false
  }
 },
 "nbformat": 4,
 "nbformat_minor": 2
}
